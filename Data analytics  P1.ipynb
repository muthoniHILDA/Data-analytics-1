{
 "cells": [
  {
   "cell_type": "code",
   "execution_count": 6,
   "id": "1096fbc6",
   "metadata": {},
   "outputs": [
    {
     "name": "stdout",
     "output_type": "stream",
     "text": [
      "      Id  SepalLengthCm  SepalWidthCm  PetalLengthCm  PetalWidthCm  \\\n",
      "0      1            5.1           3.5            1.4           0.2   \n",
      "1      2            4.9           3.0            1.4           0.2   \n",
      "2      3            4.7           3.2            1.3           0.2   \n",
      "3      4            4.6           3.1            1.5           0.2   \n",
      "4      5            5.0           3.6            1.4           0.2   \n",
      "..   ...            ...           ...            ...           ...   \n",
      "145  146            6.7           3.0            5.2           2.3   \n",
      "146  147            6.3           2.5            5.0           1.9   \n",
      "147  148            6.5           3.0            5.2           2.0   \n",
      "148  149            6.2           3.4            5.4           2.3   \n",
      "149  150            5.9           3.0            5.1           1.8   \n",
      "\n",
      "            Species  \n",
      "0       Iris-setosa  \n",
      "1       Iris-setosa  \n",
      "2       Iris-setosa  \n",
      "3       Iris-setosa  \n",
      "4       Iris-setosa  \n",
      "..              ...  \n",
      "145  Iris-virginica  \n",
      "146  Iris-virginica  \n",
      "147  Iris-virginica  \n",
      "148  Iris-virginica  \n",
      "149  Iris-virginica  \n",
      "\n",
      "[150 rows x 6 columns]\n"
     ]
    }
   ],
   "source": [
    "import pandas as pd\n",
    "Data=pd.read_csv('Iris.csv')\n",
    "print(Data)\n"
   ]
  },
  {
   "cell_type": "code",
   "execution_count": 32,
   "id": "0f07e6f9",
   "metadata": {},
   "outputs": [
    {
     "name": "stdout",
     "output_type": "stream",
     "text": [
      "Column with null values:\n",
      "None\n",
      "None\n",
      "None\n",
      "None\n"
     ]
    }
   ],
   "source": [
    "import pandas as pd\n",
    "Data = pd.read_csv(\"Iris.csv\")\n",
    "\n",
    "print(\"Column with null values:\")\n",
    "for i in Data.columns:\n",
    "    if Data[f\"{i}\"].isna().sum()>0:\n",
    "        print(\"{}\".format(i))\n",
    "mean_spl = Data['SepalLengthCm'].mean()\n",
    "print(Data['SepalLengthCm'].fillna(mean_spl, inplace=True))\n",
    "\n",
    "mean_swl = Data['SepalWidthCm'].mean()\n",
    "print(Data['SepalWidthCm'].fillna(mean_swl, inplace=True))\n",
    "\n",
    "var_pl = Data['PetalLengthCm'].var()\n",
    "print(Data['PetalLengthCm'].fillna(var_pl, inplace=True))\n",
    "\n",
    "mean_pw = Data['PetalWidthCm'].mean()\n",
    "print(Data['PetalWidthCm'].fillna(mean_pw, inplace=True))"
   ]
  },
  {
   "cell_type": "code",
   "execution_count": 33,
   "id": "92c9db24",
   "metadata": {},
   "outputs": [],
   "source": [
    "Data.to_csv(\"hilda.csv\")"
   ]
  },
  {
   "cell_type": "code",
   "execution_count": 34,
   "id": "60f89f29",
   "metadata": {},
   "outputs": [
    {
     "data": {
      "text/html": [
       "<div>\n",
       "<style scoped>\n",
       "    .dataframe tbody tr th:only-of-type {\n",
       "        vertical-align: middle;\n",
       "    }\n",
       "\n",
       "    .dataframe tbody tr th {\n",
       "        vertical-align: top;\n",
       "    }\n",
       "\n",
       "    .dataframe thead th {\n",
       "        text-align: right;\n",
       "    }\n",
       "</style>\n",
       "<table border=\"1\" class=\"dataframe\">\n",
       "  <thead>\n",
       "    <tr style=\"text-align: right;\">\n",
       "      <th></th>\n",
       "      <th>Unnamed: 0</th>\n",
       "      <th>Id</th>\n",
       "      <th>SepalLengthCm</th>\n",
       "      <th>SepalWidthCm</th>\n",
       "      <th>PetalLengthCm</th>\n",
       "      <th>PetalWidthCm</th>\n",
       "      <th>Species</th>\n",
       "    </tr>\n",
       "  </thead>\n",
       "  <tbody>\n",
       "    <tr>\n",
       "      <th>0</th>\n",
       "      <td>0</td>\n",
       "      <td>1</td>\n",
       "      <td>5.1</td>\n",
       "      <td>3.5</td>\n",
       "      <td>1.4</td>\n",
       "      <td>0.2</td>\n",
       "      <td>Iris-setosa</td>\n",
       "    </tr>\n",
       "    <tr>\n",
       "      <th>1</th>\n",
       "      <td>1</td>\n",
       "      <td>2</td>\n",
       "      <td>4.9</td>\n",
       "      <td>3.0</td>\n",
       "      <td>1.4</td>\n",
       "      <td>0.2</td>\n",
       "      <td>Iris-setosa</td>\n",
       "    </tr>\n",
       "    <tr>\n",
       "      <th>2</th>\n",
       "      <td>2</td>\n",
       "      <td>3</td>\n",
       "      <td>4.7</td>\n",
       "      <td>3.2</td>\n",
       "      <td>1.3</td>\n",
       "      <td>0.2</td>\n",
       "      <td>Iris-setosa</td>\n",
       "    </tr>\n",
       "    <tr>\n",
       "      <th>3</th>\n",
       "      <td>3</td>\n",
       "      <td>4</td>\n",
       "      <td>4.6</td>\n",
       "      <td>3.1</td>\n",
       "      <td>1.5</td>\n",
       "      <td>0.2</td>\n",
       "      <td>Iris-setosa</td>\n",
       "    </tr>\n",
       "    <tr>\n",
       "      <th>4</th>\n",
       "      <td>4</td>\n",
       "      <td>5</td>\n",
       "      <td>5.0</td>\n",
       "      <td>3.6</td>\n",
       "      <td>1.4</td>\n",
       "      <td>0.2</td>\n",
       "      <td>Iris-setosa</td>\n",
       "    </tr>\n",
       "    <tr>\n",
       "      <th>...</th>\n",
       "      <td>...</td>\n",
       "      <td>...</td>\n",
       "      <td>...</td>\n",
       "      <td>...</td>\n",
       "      <td>...</td>\n",
       "      <td>...</td>\n",
       "      <td>...</td>\n",
       "    </tr>\n",
       "    <tr>\n",
       "      <th>145</th>\n",
       "      <td>145</td>\n",
       "      <td>146</td>\n",
       "      <td>6.7</td>\n",
       "      <td>3.0</td>\n",
       "      <td>5.2</td>\n",
       "      <td>2.3</td>\n",
       "      <td>Iris-virginica</td>\n",
       "    </tr>\n",
       "    <tr>\n",
       "      <th>146</th>\n",
       "      <td>146</td>\n",
       "      <td>147</td>\n",
       "      <td>6.3</td>\n",
       "      <td>2.5</td>\n",
       "      <td>5.0</td>\n",
       "      <td>1.9</td>\n",
       "      <td>Iris-virginica</td>\n",
       "    </tr>\n",
       "    <tr>\n",
       "      <th>147</th>\n",
       "      <td>147</td>\n",
       "      <td>148</td>\n",
       "      <td>6.5</td>\n",
       "      <td>3.0</td>\n",
       "      <td>5.2</td>\n",
       "      <td>2.0</td>\n",
       "      <td>Iris-virginica</td>\n",
       "    </tr>\n",
       "    <tr>\n",
       "      <th>148</th>\n",
       "      <td>148</td>\n",
       "      <td>149</td>\n",
       "      <td>6.2</td>\n",
       "      <td>3.4</td>\n",
       "      <td>5.4</td>\n",
       "      <td>2.3</td>\n",
       "      <td>Iris-virginica</td>\n",
       "    </tr>\n",
       "    <tr>\n",
       "      <th>149</th>\n",
       "      <td>149</td>\n",
       "      <td>150</td>\n",
       "      <td>5.9</td>\n",
       "      <td>3.0</td>\n",
       "      <td>5.1</td>\n",
       "      <td>1.8</td>\n",
       "      <td>Iris-virginica</td>\n",
       "    </tr>\n",
       "  </tbody>\n",
       "</table>\n",
       "<p>150 rows × 7 columns</p>\n",
       "</div>"
      ],
      "text/plain": [
       "     Unnamed: 0   Id  SepalLengthCm  SepalWidthCm  PetalLengthCm  \\\n",
       "0             0    1            5.1           3.5            1.4   \n",
       "1             1    2            4.9           3.0            1.4   \n",
       "2             2    3            4.7           3.2            1.3   \n",
       "3             3    4            4.6           3.1            1.5   \n",
       "4             4    5            5.0           3.6            1.4   \n",
       "..          ...  ...            ...           ...            ...   \n",
       "145         145  146            6.7           3.0            5.2   \n",
       "146         146  147            6.3           2.5            5.0   \n",
       "147         147  148            6.5           3.0            5.2   \n",
       "148         148  149            6.2           3.4            5.4   \n",
       "149         149  150            5.9           3.0            5.1   \n",
       "\n",
       "     PetalWidthCm         Species  \n",
       "0             0.2     Iris-setosa  \n",
       "1             0.2     Iris-setosa  \n",
       "2             0.2     Iris-setosa  \n",
       "3             0.2     Iris-setosa  \n",
       "4             0.2     Iris-setosa  \n",
       "..            ...             ...  \n",
       "145           2.3  Iris-virginica  \n",
       "146           1.9  Iris-virginica  \n",
       "147           2.0  Iris-virginica  \n",
       "148           2.3  Iris-virginica  \n",
       "149           1.8  Iris-virginica  \n",
       "\n",
       "[150 rows x 7 columns]"
      ]
     },
     "execution_count": 34,
     "metadata": {},
     "output_type": "execute_result"
    }
   ],
   "source": [
    "import pandas as pd\n",
    "data=pd.read_csv(\"hilda.csv\")\n",
    "data\n"
   ]
  },
  {
   "cell_type": "code",
   "execution_count": 35,
   "id": "dcda79ca",
   "metadata": {},
   "outputs": [
    {
     "data": {
      "text/plain": [
       "{'whiskers': [<matplotlib.lines.Line2D at 0x1dd37565370>,\n",
       "  <matplotlib.lines.Line2D at 0x1dd37565640>],\n",
       " 'caps': [<matplotlib.lines.Line2D at 0x1dd37565910>,\n",
       "  <matplotlib.lines.Line2D at 0x1dd37565be0>],\n",
       " 'boxes': [<matplotlib.lines.Line2D at 0x1dd37565070>],\n",
       " 'medians': [<matplotlib.lines.Line2D at 0x1dd37565e20>],\n",
       " 'fliers': [<matplotlib.lines.Line2D at 0x1dd3756c130>],\n",
       " 'means': []}"
      ]
     },
     "execution_count": 35,
     "metadata": {},
     "output_type": "execute_result"
    },
    {
     "data": {
      "image/png": "[encoded data removed]",
      "text/plain": [
       "<Figure size 432x288 with 1 Axes>"
      ]
     },
     "metadata": {
      "needs_background": "light"
     },
     "output_type": "display_data"
    }
   ],
   "source": [
    "import matplotlib.pyplot as plt\n",
    "plt.boxplot(data[\"SepalLengthCm\"])"
   ]
  },
  {
   "cell_type": "code",
   "execution_count": 36,
   "id": "aaaea968",
   "metadata": {},
   "outputs": [
    {
     "data": {
      "text/plain": [
       "{'whiskers': [<matplotlib.lines.Line2D at 0x1dd3759bd30>,\n",
       "  <matplotlib.lines.Line2D at 0x1dd375a7040>],\n",
       " 'caps': [<matplotlib.lines.Line2D at 0x1dd375a7310>,\n",
       "  <matplotlib.lines.Line2D at 0x1dd375a75e0>],\n",
       " 'boxes': [<matplotlib.lines.Line2D at 0x1dd3759ba60>],\n",
       " 'medians': [<matplotlib.lines.Line2D at 0x1dd375a78b0>],\n",
       " 'fliers': [<matplotlib.lines.Line2D at 0x1dd375a7b80>],\n",
       " 'means': []}"
      ]
     },
     "execution_count": 36,
     "metadata": {},
     "output_type": "execute_result"
    },
    {
     "data": {
      "image/png": "[encoded data removed]",
      "text/plain": [
       "<Figure size 432x288 with 1 Axes>"
      ]
     },
     "metadata": {
      "needs_background": "light"
     },
     "output_type": "display_data"
    }
   ],
   "source": [
    "plt.boxplot(data[\"SepalWidthCm\"])"
   ]
  },
  {
   "cell_type": "code",
   "execution_count": 4,
   "id": "2e163cd8",
   "metadata": {},
   "outputs": [
    {
     "ename": "NameError",
     "evalue": "name 'data' is not defined",
     "output_type": "error",
     "traceback": [
      "\u001b[1;31m---------------------------------------------------------------------------\u001b[0m",
      "\u001b[1;31mNameError\u001b[0m                                 Traceback (most recent call last)",
      "Input \u001b[1;32mIn [4]\u001b[0m, in \u001b[0;36m<cell line: 2>\u001b[1;34m()\u001b[0m\n\u001b[0;32m      1\u001b[0m \u001b[38;5;28;01mimport\u001b[39;00m \u001b[38;5;21;01mmatplotlib\u001b[39;00m\u001b[38;5;21;01m.\u001b[39;00m\u001b[38;5;21;01mpyplot\u001b[39;00m \u001b[38;5;28;01mas\u001b[39;00m \u001b[38;5;21;01mplt\u001b[39;00m\n\u001b[1;32m----> 2\u001b[0m plt\u001b[38;5;241m.\u001b[39mboxplot(\u001b[43mdata\u001b[49m[\u001b[38;5;124m\"\u001b[39m\u001b[38;5;124mPetalLengthCm\u001b[39m\u001b[38;5;124m\"\u001b[39m])\n",
      "\u001b[1;31mNameError\u001b[0m: name 'data' is not defined"
     ]
    }
   ],
   "source": [
    "import matplotlib.pyplot as plt\n",
    "plt.boxplot(data[\"PetalLengthCm\"])"
   ]
  },
  {
   "cell_type": "code",
   "execution_count": 37,
   "id": "c4dd1ba8",
   "metadata": {},
   "outputs": [
    {
     "name": "stdout",
     "output_type": "stream",
     "text": [
      "     Unnamed: 0   Id  SepalLengthCm  SepalWidthCm  PetalLengthCm  \\\n",
      "0             0    1            5.1           3.5            1.4   \n",
      "1             1    2            4.9           3.0            1.4   \n",
      "2             2    3            4.7           3.2            1.3   \n",
      "3             3    4            4.6           3.1            1.5   \n",
      "4             4    5            5.0           3.6            1.4   \n",
      "..          ...  ...            ...           ...            ...   \n",
      "145         145  146            6.7           3.0            5.2   \n",
      "146         146  147            6.3           2.5            5.0   \n",
      "147         147  148            6.5           3.0            5.2   \n",
      "148         148  149            6.2           3.4            5.4   \n",
      "149         149  150            5.9           3.0            5.1   \n",
      "\n",
      "     PetalWidthCm         Species  \n",
      "0             0.2     Iris-setosa  \n",
      "1             0.2     Iris-setosa  \n",
      "2             0.2     Iris-setosa  \n",
      "3             0.2     Iris-setosa  \n",
      "4             0.2     Iris-setosa  \n",
      "..            ...             ...  \n",
      "145           2.3  Iris-virginica  \n",
      "146           1.9  Iris-virginica  \n",
      "147           2.0  Iris-virginica  \n",
      "148           2.3  Iris-virginica  \n",
      "149           1.8  Iris-virginica  \n",
      "\n",
      "[150 rows x 7 columns]\n"
     ]
    },
    {
     "name": "stderr",
     "output_type": "stream",
     "text": [
      "C:\\Users\\user\\AppData\\Local\\Temp\\ipykernel_11688\\2855242844.py:2: FutureWarning: Dropping of nuisance columns in DataFrame reductions (with 'numeric_only=None') is deprecated; in a future version this will raise TypeError.  Select only valid columns before calling the reduction.\n",
      "  z_scores=np.abs((data-data.mean()/data.std()))\n"
     ]
    }
   ],
   "source": [
    "import numpy as np\n",
    "z_scores=np.abs((data-data.mean()/data.std()))\n",
    "threshold=3\n",
    "outliers=(z_scores>threshold).any(axis=1)\n",
    "print(data[outliers])"
   ]
  },
  {
   "cell_type": "code",
   "execution_count": 38,
   "id": "eb539fda",
   "metadata": {},
   "outputs": [
    {
     "data": {
      "text/plain": [
       "(150, 6)"
      ]
     },
     "execution_count": 38,
     "metadata": {},
     "output_type": "execute_result"
    }
   ],
   "source": [
    "Data.shape"
   ]
  },
  {
   "cell_type": "code",
   "execution_count": 39,
   "id": "8be1ac45",
   "metadata": {},
   "outputs": [
    {
     "data": {
      "text/plain": [
       "150"
      ]
     },
     "execution_count": 39,
     "metadata": {},
     "output_type": "execute_result"
    }
   ],
   "source": [
    "Data.shape[0]\n"
   ]
  },
  {
   "cell_type": "code",
   "execution_count": 40,
   "id": "5a0c6e9a",
   "metadata": {},
   "outputs": [
    {
     "data": {
      "text/plain": [
       "6"
      ]
     },
     "execution_count": 40,
     "metadata": {},
     "output_type": "execute_result"
    }
   ],
   "source": [
    "\n",
    "Data.shape[1]\n"
   ]
  },
  {
   "cell_type": "code",
   "execution_count": 41,
   "id": "da70505c",
   "metadata": {},
   "outputs": [
    {
     "data": {
      "text/plain": [
       "Id               150\n",
       "SepalLengthCm     35\n",
       "SepalWidthCm      23\n",
       "PetalLengthCm     43\n",
       "PetalWidthCm      22\n",
       "Species            3\n",
       "dtype: int64"
      ]
     },
     "execution_count": 41,
     "metadata": {},
     "output_type": "execute_result"
    }
   ],
   "source": [
    "Data.nunique()"
   ]
  },
  {
   "cell_type": "code",
   "execution_count": 42,
   "id": "4adc8530",
   "metadata": {},
   "outputs": [],
   "source": [
    "#prifilinge is for analysis and removing null values"
   ]
  },
  {
   "cell_type": "code",
   "execution_count": 43,
   "id": "00dbef80",
   "metadata": {},
   "outputs": [
    {
     "ename": "NameError",
     "evalue": "name 'pp' is not defined",
     "output_type": "error",
     "traceback": [
      "\u001b[1;31m---------------------------------------------------------------------------\u001b[0m",
      "\u001b[1;31mNameError\u001b[0m                                 Traceback (most recent call last)",
      "Input \u001b[1;32mIn [43]\u001b[0m, in \u001b[0;36m<cell line: 2>\u001b[1;34m()\u001b[0m\n\u001b[0;32m      1\u001b[0m \u001b[38;5;66;03m#import pandas_profiling as pp\u001b[39;00m\n\u001b[1;32m----> 2\u001b[0m \u001b[43mpp\u001b[49m\u001b[38;5;241m.\u001b[39mProfileReport(Data)\n",
      "\u001b[1;31mNameError\u001b[0m: name 'pp' is not defined"
     ]
    }
   ],
   "source": [
    "#import pandas_profiling as pp\n",
    "pp.ProfileReport(Data)"
   ]
  },
  {
   "cell_type": "code",
   "execution_count": null,
   "id": "4cd810db",
   "metadata": {},
   "outputs": [],
   "source": [
    "Data.isnull().sum()\n"
   ]
  },
  {
   "cell_type": "code",
   "execution_count": null,
   "id": "4122b4b7",
   "metadata": {},
   "outputs": [],
   "source": [
    "Data.isna().sum()"
   ]
  },
  {
   "cell_type": "code",
   "execution_count": null,
   "id": "e4cd921a",
   "metadata": {},
   "outputs": [],
   "source": [
    "Data.mode()"
   ]
  },
  {
   "cell_type": "code",
   "execution_count": null,
   "id": "8d7d9d6b",
   "metadata": {},
   "outputs": [],
   "source": [
    "Data.median()"
   ]
  },
  {
   "cell_type": "code",
   "execution_count": 2,
   "id": "04f80bc1",
   "metadata": {},
   "outputs": [
    {
     "ename": "NameError",
     "evalue": "name 'data' is not defined",
     "output_type": "error",
     "traceback": [
      "\u001b[1;31m---------------------------------------------------------------------------\u001b[0m",
      "\u001b[1;31mNameError\u001b[0m                                 Traceback (most recent call last)",
      "Input \u001b[1;32mIn [2]\u001b[0m, in \u001b[0;36m<cell line: 1>\u001b[1;34m()\u001b[0m\n\u001b[1;32m----> 1\u001b[0m \u001b[43mdata\u001b[49m\u001b[38;5;241m.\u001b[39mmean()\n",
      "\u001b[1;31mNameError\u001b[0m: name 'data' is not defined"
     ]
    }
   ],
   "source": [
    "data.mean()"
   ]
  },
  {
   "cell_type": "code",
   "execution_count": null,
   "id": "832277ed",
   "metadata": {},
   "outputs": [],
   "source": [
    "Data.std()"
   ]
  },
  {
   "cell_type": "code",
   "execution_count": null,
   "id": "f3590d13",
   "metadata": {},
   "outputs": [],
   "source": [
    "Data.var()"
   ]
  },
  {
   "cell_type": "code",
   "execution_count": null,
   "id": "6863d40c",
   "metadata": {},
   "outputs": [],
   "source": [
    "import pandas as pd\n",
    "Data = pd.read_csv(\"Iris.csv\")\n",
    "\n",
    "print(\"Column with null values:\")\n",
    "for i in Data.columns:\n",
    "    if Data[f\"{i}\"].isna().sum()>0:\n",
    "        print(\"{}\".format(i))\n",
    "mean_spl = Data['SepalLengthCm'].mean()\n",
    "print(Data['SepalLengthCm'].fillna(mean_spl, inplace=True))\n",
    "\n",
    "mean_swl = Data['SepalWidthCm'].mean()\n",
    "print(Data['SepalWidthCm'].fillna(mean_swl, inplace=True))\n",
    "\n",
    "var_pl = Data['PetalLengthCm'].var()\n",
    "print(Data['PetalLengthCm'].fillna(var_pl, inplace=True))\n",
    "\n",
    "mean_pw = Data['PetalWidthCm'].mean()\n",
    "print(Data['PetalWidthCm'].fillna(mean_pw, inplace=True))"
   ]
  },
  {
   "cell_type": "code",
   "execution_count": null,
   "id": "f981fced",
   "metadata": {},
   "outputs": [],
   "source": [
    "from ydata_profiling import ProfileReport\n",
    "ProfileReport(Data)"
   ]
  },
  {
   "cell_type": "code",
   "execution_count": 1,
   "id": "cd4579a8",
   "metadata": {},
   "outputs": [
    {
     "ename": "SyntaxError",
     "evalue": "invalid syntax (4246225011.py, line 1)",
     "output_type": "error",
     "traceback": [
      "\u001b[1;36m  Input \u001b[1;32mIn [1]\u001b[1;36m\u001b[0m\n\u001b[1;33m    for i Data.columns:{\u001b[0m\n\u001b[1;37m          ^\u001b[0m\n\u001b[1;31mSyntaxError\u001b[0m\u001b[1;31m:\u001b[0m invalid syntax\n"
     ]
    }
   ],
   "source": [
    "for i Data.columns:{\n",
    "    if Data[f\"{i}\"].isna().sum()>O\n",
    "    print"
   ]
  },
  {
   "cell_type": "code",
   "execution_count": null,
   "id": "21b2f311",
   "metadata": {},
   "outputs": [],
   "source": [
    "import numpy as np\n",
    "\n",
    "# Define the list of data points\n",
    "data_points = [10, 386, 479, 627, 20, 523, 482, 483, 542, 699, 535, 617, 577, 987]\n",
    "\n",
    "# Calculate the mean of the data points\n",
    "mean = np.mean(data_points)\n",
    "\n",
    "# Calculate the standard deviation of the data points\n",
    "std_dev = np.std(data_points)\n",
    "\n",
    "# Define the threshold for identifying outliers\n",
    "threshold = 2  # Typically, 2 or 3 standard deviations are used\n",
    "\n",
    "# Identify and remove outliers\n",
    "filtered_data_points = [x for x in data_points if (mean - threshold * std_dev) <= x <= (mean + threshold * std_dev)]\n",
    "\n",
    "# Display the new list without the outliers\n",
    "print(\"Original data points:\", data_points)\n",
    "print(\"Filtered data points:\", filtered_data_points)"
   ]
  },
  {
   "cell_type": "markdown",
   "id": "06e85221",
   "metadata": {},
   "source": [
    "# TB MODEL"
   ]
  },
  {
   "cell_type": "code",
   "execution_count": null,
   "id": "ca35d028",
   "metadata": {},
   "outputs": [],
   "source": [
    "import numpy as np\n",
    "from scipy.integrate import odeint\n",
    "import matplotlib.pyplot as plt\n",
    "\n",
    "# Define the model parameters\n",
    "beta = 0.3   # Transmission rate\n",
    "sigma = 0.1  # Rate of progression from exposed to infectious\n",
    "gamma = 0.05 # Recovery rate\n",
    "mu = 0.01    # Natural mortality rate\n",
    "delta = 0.02 # Disease-induced mortality rate\n",
    "\n",
    "# Define the initial conditions\n",
    "S0 = 990  # Initial number of susceptible individuals\n",
    "E0 = 10   # Initial number of exposed individuals\n",
    "I0 = 5    # Initial number of infectious individuals\n",
    "R0 = 0    # Initial number of recovered individuals\n",
    "\n",
    "# Total population, N\n",
    "N = S0 + E0 + I0 + R0\n",
    "\n",
    "# A grid of time points (in days)\n",
    "t = np.linspace(0, 160, 160)\n",
    "\n",
    "# The SEIR model differential equations\n",
    "def deriv(y, t, N, beta, sigma, gamma, mu, delta):\n",
    "    S, E, I, R = y\n",
    "    dSdt = mu * N - beta * S * I / N - mu * S\n",
    "    dEdt = beta * S * I / N - sigma * E - mu * E\n",
    "    dIdt = sigma * E - gamma * I - mu * I - delta * I\n",
    "    dRdt = gamma * I - mu * R\n",
    "    return dSdt, dEdt, dIdt, dRdt\n",
    "print()\n",
    "\n",
    "# Initial conditions vector\n",
    "y0 = S0, E0, I0, R0\n",
    "\n",
    "# Integrate the SEIR equations over the time grid, t\n",
    "ret = odeint(deriv, y0, t, args=(N, beta, sigma, gamma, mu, delta))\n",
    "S, E, I, R = ret.T\n",
    "\n",
    "# Plot the data\n",
    "fig = plt.figure(figsize=(10, 6))\n",
    "plt.plot(t, S, 'b', alpha=0.7, linewidth=2, label='Susceptible')\n",
    "plt.plot(t, E, 'y', alpha=0.7, linewidth=2, label='Exposed')\n",
    "plt.plot(t, I, 'r', alpha=0.7, linewidth=2, label='Infectious')\n",
    "plt.plot(t, R, 'g', alpha=0.7, linewidth=2, label='Recovered')\n",
    "plt.xlabel('Time (days)')\n",
    "plt.ylabel('Number of individuals')\n",
    "plt.title('TB Model (SEIR)')\n",
    "plt.legend()\n",
    "plt.grid(True)\n",
    "plt.show()\n"
   ]
  },
  {
   "cell_type": "code",
   "execution_count": null,
   "id": "59a727fc",
   "metadata": {},
   "outputs": [],
   "source": [
    "for number in range(1, 101):\n",
    "    square = number ** 2\n",
    "    print(f\"The square of {number} is {square}\")"
   ]
  },
  {
   "cell_type": "code",
   "execution_count": null,
   "id": "d2707dd6",
   "metadata": {},
   "outputs": [],
   "source": [
    "# Function to check if a number is prime\n",
    "def is_prime(n):\n",
    "    if n <= 1:\n",
    "        return False\n",
    "    for i in range(2, int(n**0.5) + 1):\n",
    "        if n % i == 0:\n",
    "            return False\n",
    "    return True\n",
    "\n",
    "# Generate and print squares of prime numbers from 1 to 100\n",
    "for number in range(1, 101):\n",
    "    if is_prime(number):\n",
    "        square = number ** 2\n",
    "        print(f\"The square of prime number {number} is {square}\")"
   ]
  },
  {
   "cell_type": "code",
   "execution_count": null,
   "id": "4b2c039d",
   "metadata": {},
   "outputs": [],
   "source": [
    "import pandas as pd\n",
    "\n",
    "# Create first DataFrame using dictionary and Pandas Series\n",
    "data1 = {\n",
    "    'ID': pd.Series([1, 2, 3, 4, 5]),\n",
    "    'Name': pd.Series(['Alice', 'Bob', 'Charlie', 'David', 'Eva'])\n",
    "}\n",
    "df1 = pd.DataFrame(data1)\n",
    "\n",
    "# Create second DataFrame using dictionary and Pandas Series\n",
    "data2 = {\n",
    "    'ID': pd.Series([1, 2, 3, 6]),\n",
    "    'Age': pd.Series([25, 30, 35, 40]),\n",
    "    'City': pd.Series(['New York', 'Los Angeles', 'Chicago', 'Houston'])\n",
    "}\n",
    "df2 = pd.DataFrame(data2)\n",
    "\n",
    "# Merge the DataFrames on 'ID' column\n",
    "merged_df = pd.merge(df1, df2, on='ID', how='inner')\n",
    "\n",
    "# Display the merged DataFrame\n",
    "print(\"Merged DataFrame:\")\n",
    "print(merged_df)\n"
   ]
  },
  {
   "cell_type": "code",
   "execution_count": null,
   "id": "3cb3fd7e",
   "metadata": {},
   "outputs": [],
   "source": [
    "import pandas as pd\n",
    "\n",
    "# Create first DataFrame using dictionary and Pandas Series\n",
    "data1 = {\n",
    "    'ID': pd.Series([1, 2, 3, 4, 5]),\n",
    "    'Name': pd.Series(['Alice', 'Bob', 'Charlie', 'David', 'Eva'])\n",
    "}\n",
    "df1 = pd.DataFrame(data1)\n",
    "\n",
    "# Create second DataFrame using dictionary and Pandas Series\n",
    "data2 = {\n",
    "    'ID': pd.Series([1, 2, 3, 6]),\n",
    "    'Age': pd.Series([25, 30, 35, 40]),\n",
    "    'City': pd.Series(['New York', 'Los Angeles', 'Chicago', 'Houston'])\n",
    "}\n",
    "df2 = pd.DataFrame(data2)\n",
    "\n",
    "# Inner Join\n",
    "inner_join_df = pd.merge(df1, df2, on='ID', how='inner')\n",
    "print(\"Inner Join DataFrame:\")\n",
    "print(inner_join_df)\n",
    "\n",
    "# Left Join\n",
    "left_join_df = pd.merge(df1, df2, on='ID', how='left')\n",
    "print(\"\\nLeft Join DataFrame:\")\n",
    "print(left_join_df)\n",
    "\n",
    "# Right Join\n",
    "right_join_df = pd.merge(df1, df2, on='ID', how='right')\n",
    "print(\"\\nRight Join DataFrame:\")\n",
    "print(right_join_df)\n",
    "\n",
    "# Full Join (Outer Join)\n",
    "full_join_df = pd.merge(df1, df2, on='ID', how='outer')\n",
    "print(\"\\nFull Join (Outer Join) DataFrame:\")\n",
    "print(full_join_df)\n"
   ]
  },
  {
   "cell_type": "code",
   "execution_count": 44,
   "id": "c2939559",
   "metadata": {},
   "outputs": [
    {
     "name": "stdout",
     "output_type": "stream",
     "text": [
      "Q1: 14.25\n",
      "Q3: 21.75\n",
      "IQR: 7.5\n",
      "Lower Bound: 3.0\n",
      "Upper Bound: 33.0\n",
      "Outliers:\n",
      "   ID  Value\n",
      "9  10    100\n"
     ]
    }
   ],
   "source": [
    "import pandas as pd\n",
    "import numpy as np\n",
    "\n",
    "# Sample data\n",
    "data = {\n",
    "    'ID': pd.Series([1, 2, 3, 4, 5, 6, 7, 8, 9, 10]),\n",
    "    'Value': pd.Series([10, 12, 14, 15, 18, 20, 21, 22, 23, 100])  # The value 100 is an outlier\n",
    "}\n",
    "df = pd.DataFrame(data)\n",
    "\n",
    "# Calculate Q1 (25th percentile) and Q3 (75th percentile)\n",
    "Q1 = df['Value'].quantile(0.25)\n",
    "Q3 = df['Value'].quantile(0.75)\n",
    "\n",
    "# Calculate IQR\n",
    "IQR = Q3 - Q1\n",
    "\n",
    "# Determine the lower and upper bounds for outliers\n",
    "lower_bound = Q1 - 1.5 * IQR\n",
    "upper_bound = Q3 + 1.5 * IQR\n",
    "\n",
    "# Identify outliers\n",
    "outliers = df[(df['Value'] < lower_bound) | (df['Value'] > upper_bound)]\n",
    "\n",
    "# Print results\n",
    "print(\"Q1:\", Q1)\n",
    "print(\"Q3:\", Q3)\n",
    "print(\"IQR:\", IQR)\n",
    "print(\"Lower Bound:\", lower_bound)\n",
    "print(\"Upper Bound:\", upper_bound)\n",
    "print(\"Outliers:\")\n",
    "print(outliers)\n"
   ]
  },
  {
   "cell_type": "code",
   "execution_count": 1,
   "id": "ad0cc08c",
   "metadata": {},
   "outputs": [
    {
     "name": "stdout",
     "output_type": "stream",
     "text": [
      "5\n",
      "4\n",
      "3\n",
      "6\n",
      "3\n",
      "7\n",
      "3\n",
      "3\n",
      "7\n",
      "8\n",
      "8\n",
      "4\n",
      "3\n",
      "5\n",
      "4\n",
      "4\n",
      "3\n",
      "8\n",
      "8\n",
      "5\n",
      "4\n",
      "6\n",
      "6\n",
      "6\n",
      "8\n",
      "8\n",
      "7\n",
      "5\n",
      "6\n",
      "4\n",
      "5\n",
      "4\n",
      "6\n",
      "5\n",
      "6\n",
      "3\n",
      "3\n",
      "7\n",
      "4\n",
      "8\n",
      "6\n",
      "8\n",
      "7\n",
      "6\n",
      "7\n",
      "5\n",
      "6\n",
      "8\n",
      "7\n",
      "4\n"
     ]
    }
   ],
   "source": [
    "import random\n",
    "\n",
    "for i in range(50):\n",
    "    print(random.randint(3, 8))\n"
   ]
  },
  {
   "cell_type": "code",
   "execution_count": 5,
   "id": "70c049dd",
   "metadata": {
    "scrolled": true
   },
   "outputs": [
    {
     "data": {
      "image/png": "[encoded data removed]",
      "text/plain": [
       "<Figure size 432x288 with 1 Axes>"
      ]
     },
     "metadata": {
      "needs_background": "light"
     },
     "output_type": "display_data"
    }
   ],
   "source": [
    "import matplotlib.pyplot as plt\n",
    "\n",
    "marks = [23, 17, 35, 29, 12, 45, 68, 54, 75]\n",
    "\n",
    "# Creating the histogram\n",
    "plt.hist(marks,color=\"red\",edgecolor=\"black\")\n",
    "\n",
    "# Adding title and labels\n",
    "plt.title('Students marks in Programming Language')\n",
    "plt.xlabel('Marks in Programming Language')\n",
    "plt.ylabel('Number of Students')\n",
    "\n",
    "# Show the plot\n",
    "plt.show()\n"
   ]
  },
  {
   "cell_type": "code",
   "execution_count": 14,
   "id": "96849963",
   "metadata": {},
   "outputs": [
    {
     "name": "stdout",
     "output_type": "stream",
     "text": [
      "5\n",
      "Index(['Kenya', 'India', 'USA', 'UK', 'France'], dtype='object')\n",
      "10         Nairobi\n",
      "20        NewDelhi\n",
      "30    WashingtonDC\n",
      "40          London\n",
      "50           Paris\n",
      "dtype: object\n"
     ]
    }
   ],
   "source": [
    "import pandas as pd\n",
    "\n",
    "seriesCapCntry = pd.Series(['Nairobi', 'NewDelhi', 'WashingtonDC', 'London', 'Paris'],\n",
    "                           index=['Kenya', 'India', 'USA', 'UK', 'France'])\n",
    "\n",
    "seriesCapCntry[1]\n",
    "seriesCapCntry[1:3]\n",
    "seriesCapCntry['USA']\n",
    "seriesCapCntry.values\n",
    "print(seriesCapCntry.size)\n",
    "print(seriesCapCntry.index)\n",
    "seriesCapCntry.index = [10, 20, 30, 40, 50]\n",
    "print(seriesCapCntry)\n"
   ]
  },
  {
   "cell_type": "code",
   "execution_count": 15,
   "id": "5152bb92",
   "metadata": {},
   "outputs": [
    {
     "name": "stdout",
     "output_type": "stream",
     "text": [
      "a:  5.0 b:  1.0\n"
     ]
    }
   ],
   "source": [
    "a=21/2//3.0+3**2//4\n",
    "b=4%5/4%4\n",
    "print(\"a: \",a,\"b: \",b)"
   ]
  },
  {
   "cell_type": "code",
   "execution_count": 17,
   "id": "ed82dc18",
   "metadata": {},
   "outputs": [
    {
     "name": "stdout",
     "output_type": "stream",
     "text": [
      "12\n",
      "18\n",
      "24\n",
      "30\n"
     ]
    }
   ],
   "source": [
    "for i in range(12, 31, 6):\n",
    "    print(i)\n"
   ]
  },
  {
   "cell_type": "code",
   "execution_count": 23,
   "id": "4f5069d3",
   "metadata": {},
   "outputs": [
    {
     "name": "stdout",
     "output_type": "stream",
     "text": [
      "g\n",
      "rogramming language\n",
      "programming language python\n",
      "programming languageprogramming languageprogramming language\n"
     ]
    }
   ],
   "source": [
    "s=\"programming language\"\n",
    "print(s[3])\n",
    "print(s[1:])\n",
    "\n",
    "print(s+ \" python\")\n",
    "print(s*3)"
   ]
  },
  {
   "cell_type": "code",
   "execution_count": 25,
   "id": "e4b8d13d",
   "metadata": {},
   "outputs": [
    {
     "ename": "SyntaxError",
     "evalue": "cannot assign to set display (1961815249.py, line 3)",
     "output_type": "error",
     "traceback": [
      "\u001b[1;36m  Input \u001b[1;32mIn [25]\u001b[1;36m\u001b[0m\n\u001b[1;33m    dict={2}=\"This is two\"\u001b[0m\n\u001b[1;37m         ^\u001b[0m\n\u001b[1;31mSyntaxError\u001b[0m\u001b[1;31m:\u001b[0m cannot assign to set display\n"
     ]
    }
   ],
   "source": [
    "dict={}\n",
    "\n",
    "dict={2}=\"This is two\"\n",
    "tinydict={'name':'john','code':6734,'dept':'sales'}\n",
    "print(dict['one'])\n",
    "print(dict[2])\n",
    "print(tinydict)\n",
    "print(tinydict.keys())\n",
    "print(tinydict.values())"
   ]
  },
  {
   "cell_type": "code",
   "execution_count": 5,
   "id": "0418f1b4",
   "metadata": {},
   "outputs": [
    {
     "name": "stdout",
     "output_type": "stream",
     "text": [
      "     Name Gender  Salary    Designation\n",
      "0  Samuel      M   21000     Accountant\n",
      "1   Kevin      M   32000  Administrator\n",
      "2  Rachel      F   48000        Manager\n"
     ]
    }
   ],
   "source": [
    "import pandas as pd\n",
    "\n",
    "# Creating Series for each column\n",
    "name_series = pd.Series(['Samuel', 'Kevin', 'Rachel'])\n",
    "gender_series = pd.Series(['M', 'M', 'F'])\n",
    "salary_series = pd.Series([21000, 32000, 48000])\n",
    "designation_series = pd.Series(['Accountant', 'Administrator', 'Manager'])\n",
    "\n",
    "# Creating the DataFrame\n",
    "df1 = pd.DataFrame({\n",
    "    'Name': name_series,\n",
    "    'Gender': gender_series,\n",
    "    'Salary': salary_series,\n",
    "    'Designation': designation_series\n",
    "})\n",
    "\n",
    "print(df1)\n"
   ]
  },
  {
   "cell_type": "code",
   "execution_count": 7,
   "id": "cf09ab5b",
   "metadata": {},
   "outputs": [],
   "source": [
    "df_even = df1.iloc[:, ::2]\n"
   ]
  },
  {
   "cell_type": "code",
   "execution_count": 4,
   "id": "831c81b0",
   "metadata": {},
   "outputs": [
    {
     "name": "stdout",
     "output_type": "stream",
     "text": [
      "10\n",
      "15\n"
     ]
    }
   ],
   "source": [
    "for k in range(10, 20, 5):\n",
    "    print(k)\n"
   ]
  },
  {
   "cell_type": "code",
   "execution_count": 8,
   "id": "25c757a5",
   "metadata": {},
   "outputs": [
    {
     "data": {
      "image/png": "[encoded data removed]",
      "text/plain": [
       "<Figure size 432x288 with 1 Axes>"
      ]
     },
     "metadata": {
      "needs_background": "light"
     },
     "output_type": "display_data"
    }
   ],
   "source": [
    "import matplotlib.pyplot as plt\n",
    "\n",
    "# Sample data\n",
    "x = [1, 2, 3, 4, 5]\n",
    "y = [2, 4, 5, 7, 6]\n",
    "\n",
    "# Creating a scatter plot\n",
    "plt.scatter(x, y, color='blue', marker='o')\n",
    "\n",
    "# Adding titles and labels\n",
    "plt.title('Sample Scatter Plot')\n",
    "plt.xlabel('X-axis label')\n",
    "plt.ylabel('Y-axis label')\n",
    "\n",
    "# Show plot\n",
    "plt.show()\n"
   ]
  },
  {
   "cell_type": "code",
   "execution_count": null,
   "id": "b25e411a",
   "metadata": {},
   "outputs": [],
   "source": []
  }
 ],
 "metadata": {
  "kernelspec": {
   "display_name": "Python 3 (ipykernel)",
   "language": "python",
   "name": "python3"
  },
  "language_info": {
   "codemirror_mode": {
    "name": "ipython",
    "version": 3
   },
   "file_extension": ".py",
   "mimetype": "text/x-python",
   "name": "python",
   "nbconvert_exporter": "python",
   "pygments_lexer": "ipython3",
   "version": "3.9.12"
  }
 },
 "nbformat": 4,
 "nbformat_minor": 5
}
